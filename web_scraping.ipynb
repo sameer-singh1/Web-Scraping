{
 "cells": [
  {
   "cell_type": "markdown",
   "metadata": {},
   "source": [
    "#### Web Scraping on CARS24"
   ]
  },
  {
   "cell_type": "code",
   "execution_count": 2,
   "metadata": {},
   "outputs": [
    {
     "name": "stdout",
     "output_type": "stream",
     "text": [
      "https://www.cars24.com/buy-used-cars-hyderabad/\n"
     ]
    }
   ],
   "source": [
    "link = 'https://www.cars24.com/buy-used-cars-hyderabad/'\n",
    "print(link)"
   ]
  },
  {
   "cell_type": "code",
   "execution_count": 3,
   "metadata": {},
   "outputs": [],
   "source": [
    "import requests"
   ]
  },
  {
   "cell_type": "code",
   "execution_count": 4,
   "metadata": {},
   "outputs": [],
   "source": [
    "page = requests.get(link)"
   ]
  },
  {
   "cell_type": "code",
   "execution_count": 5,
   "metadata": {},
   "outputs": [
    {
     "data": {
      "text/plain": [
       "200"
      ]
     },
     "execution_count": 5,
     "metadata": {},
     "output_type": "execute_result"
    }
   ],
   "source": [
    "page.status_code"
   ]
  },
  {
   "cell_type": "code",
   "execution_count": 6,
   "metadata": {},
   "outputs": [],
   "source": [
    "from bs4 import BeautifulSoup as bs"
   ]
  },
  {
   "cell_type": "code",
   "execution_count": 7,
   "metadata": {},
   "outputs": [],
   "source": [
    "page_html = bs(page.content,'html.parser')"
   ]
  },
  {
   "cell_type": "code",
   "execution_count": 9,
   "metadata": {},
   "outputs": [],
   "source": [
    "cars = page_html.find_all('div',{'class':'_7jb8Q _1Ey60'})"
   ]
  },
  {
   "cell_type": "code",
   "execution_count": 10,
   "metadata": {},
   "outputs": [
    {
     "data": {
      "text/plain": [
       "20"
      ]
     },
     "execution_count": 10,
     "metadata": {},
     "output_type": "execute_result"
    }
   ],
   "source": [
    "len(cars)"
   ]
  },
  {
   "cell_type": "code",
   "execution_count": 11,
   "metadata": {},
   "outputs": [
    {
     "name": "stdout",
     "output_type": "stream",
     "text": [
      "Requirement already satisfied: selenium in c:\\users\\hp\\appdata\\local\\programs\\python\\python38\\lib\\site-packages (4.24.0)\n",
      "Requirement already satisfied: urllib3[socks]<3,>=1.26 in c:\\users\\hp\\appdata\\local\\programs\\python\\python38\\lib\\site-packages (from selenium) (1.26.14)\n",
      "Requirement already satisfied: websocket-client~=1.8 in c:\\users\\hp\\appdata\\local\\programs\\python\\python38\\lib\\site-packages (from selenium) (1.8.0)\n",
      "Requirement already satisfied: trio-websocket~=0.9 in c:\\users\\hp\\appdata\\local\\programs\\python\\python38\\lib\\site-packages (from selenium) (0.11.1)\n",
      "Requirement already satisfied: trio~=0.17 in c:\\users\\hp\\appdata\\local\\programs\\python\\python38\\lib\\site-packages (from selenium) (0.26.2)\n",
      "Requirement already satisfied: typing_extensions~=4.9 in c:\\users\\hp\\appdata\\local\\programs\\python\\python38\\lib\\site-packages (from selenium) (4.12.2)\n",
      "Requirement already satisfied: certifi>=2021.10.8 in c:\\users\\hp\\appdata\\local\\programs\\python\\python38\\lib\\site-packages (from selenium) (2022.12.7)\n",
      "Requirement already satisfied: sniffio>=1.3.0 in c:\\users\\hp\\appdata\\local\\programs\\python\\python38\\lib\\site-packages (from trio~=0.17->selenium) (1.3.1)\n",
      "Requirement already satisfied: idna in c:\\users\\hp\\appdata\\local\\programs\\python\\python38\\lib\\site-packages (from trio~=0.17->selenium) (3.4)\n",
      "Requirement already satisfied: attrs>=23.2.0 in c:\\users\\hp\\appdata\\local\\programs\\python\\python38\\lib\\site-packages (from trio~=0.17->selenium) (24.2.0)\n",
      "Requirement already satisfied: cffi>=1.14 in c:\\users\\hp\\appdata\\local\\programs\\python\\python38\\lib\\site-packages (from trio~=0.17->selenium) (1.17.1)\n",
      "Requirement already satisfied: exceptiongroup in c:\\users\\hp\\appdata\\local\\programs\\python\\python38\\lib\\site-packages (from trio~=0.17->selenium) (1.2.2)\n",
      "Requirement already satisfied: outcome in c:\\users\\hp\\appdata\\local\\programs\\python\\python38\\lib\\site-packages (from trio~=0.17->selenium) (1.3.0.post0)\n",
      "Requirement already satisfied: sortedcontainers in c:\\users\\hp\\appdata\\local\\programs\\python\\python38\\lib\\site-packages (from trio~=0.17->selenium) (2.4.0)\n",
      "Requirement already satisfied: pycparser in c:\\users\\hp\\appdata\\local\\programs\\python\\python38\\lib\\site-packages (from cffi>=1.14->trio~=0.17->selenium) (2.22)\n",
      "Requirement already satisfied: wsproto>=0.14 in c:\\users\\hp\\appdata\\local\\programs\\python\\python38\\lib\\site-packages (from trio-websocket~=0.9->selenium) (1.2.0)\n",
      "Requirement already satisfied: PySocks!=1.5.7,<2.0,>=1.5.6 in c:\\users\\hp\\appdata\\local\\programs\\python\\python38\\lib\\site-packages (from urllib3[socks]<3,>=1.26->selenium) (1.7.1)\n",
      "Requirement already satisfied: h11<1,>=0.9.0 in c:\\users\\hp\\appdata\\local\\programs\\python\\python38\\lib\\site-packages (from wsproto>=0.14->trio-websocket~=0.9->selenium) (0.14.0)\n",
      "Note: you may need to restart the kernel to use updated packages.\n"
     ]
    },
    {
     "name": "stderr",
     "output_type": "stream",
     "text": [
      "WARNING: You are using pip version 21.1.1; however, version 24.2 is available.\n",
      "You should consider upgrading via the 'c:\\Users\\Hp\\AppData\\Local\\Programs\\Python\\Python38\\python.exe -m pip install --upgrade pip' command.\n"
     ]
    }
   ],
   "source": [
    "pip install selenium"
   ]
  },
  {
   "cell_type": "code",
   "execution_count": 12,
   "metadata": {},
   "outputs": [],
   "source": [
    "from selenium import webdriver"
   ]
  },
  {
   "cell_type": "code",
   "execution_count": 13,
   "metadata": {},
   "outputs": [],
   "source": [
    "import time"
   ]
  },
  {
   "cell_type": "code",
   "execution_count": 14,
   "metadata": {},
   "outputs": [
    {
     "name": "stdout",
     "output_type": "stream",
     "text": [
      "11640\n"
     ]
    }
   ],
   "source": [
    "browser = webdriver.Edge()\n",
    "browser.get(link)\n",
    "time.sleep(3)\n",
    "\n",
    "ini_height = browser.execute_script('return document.body.scrollHeight')\n",
    "print(ini_height)\n",
    "\n",
    "#browser.execute_script('window.scroll(0,9000);')\n",
    "\n",
    "#ini_height = browser.execute_script('return document.body.scrollHeight')\n",
    "#print(ini_height)\n",
    "\n",
    "while True:\n",
    "    browser.execute_script('window.scroll(0,9000);')\n",
    "    time.sleep(3)\n",
    "    \n",
    "    new_height = browser.execute_script('return document.body.scrollHeight')\n",
    "    \n",
    "    if (new_height==ini_height):\n",
    "        break\n",
    "    ini_height=new_height\n",
    "    time.sleep(3)\n",
    "    \n",
    "html = browser.page_source\n",
    "\n",
    "browser.quit()"
   ]
  },
  {
   "cell_type": "code",
   "execution_count": 15,
   "metadata": {},
   "outputs": [
    {
     "data": {
      "text/plain": [
       "60622"
      ]
     },
     "execution_count": 15,
     "metadata": {},
     "output_type": "execute_result"
    }
   ],
   "source": [
    "new_height"
   ]
  },
  {
   "cell_type": "code",
   "execution_count": 16,
   "metadata": {},
   "outputs": [],
   "source": [
    "page_html = bs(html,'html.parser')"
   ]
  },
  {
   "cell_type": "code",
   "execution_count": 17,
   "metadata": {},
   "outputs": [],
   "source": [
    "cars = page_html.find_all('div',{'class':'_7jb8Q _1Ey60'})\n"
   ]
  },
  {
   "cell_type": "code",
   "execution_count": 18,
   "metadata": {},
   "outputs": [
    {
     "data": {
      "text/plain": [
       "525"
      ]
     },
     "execution_count": 18,
     "metadata": {},
     "output_type": "execute_result"
    }
   ],
   "source": [
    "len(cars)"
   ]
  },
  {
   "cell_type": "code",
   "execution_count": 19,
   "metadata": {},
   "outputs": [],
   "source": [
    "car=cars[0]"
   ]
  },
  {
   "cell_type": "code",
   "execution_count": 20,
   "metadata": {},
   "outputs": [
    {
     "name": "stdout",
     "output_type": "stream",
     "text": [
      "<div class=\"_7jb8Q _1Ey60\">\n",
      " <h3 class=\"_2Out2\">\n",
      "  2015 Hyundai Xcent\n",
      "  <!-- -->\n",
      "  <span>\n",
      "   S 1.2\n",
      "  </span>\n",
      " </h3>\n",
      " <ul class=\"_3jRcd\">\n",
      "  <li class=\"_2Fm8o\">\n",
      "   Reg. serviced\n",
      "  </li>\n",
      "  <li>\n",
      "   25,539 km\n",
      "  </li>\n",
      "  <li>\n",
      "   Petrol\n",
      "  </li>\n",
      "  <li>\n",
      "   1st owner\n",
      "  </li>\n",
      " </ul>\n",
      " <div class=\"_1Oul-\">\n",
      "  <span class=\"_1t1AA\">\n",
      "   <!-- -->\n",
      "   EMI from ₹8,292/m\n",
      "  </span>\n",
      " </div>\n",
      " <div class=\"_1Oul- VMjdr\">\n",
      "  <strong class=\"_37WXy\">\n",
      "   ₹4.24L\n",
      "  </strong>\n",
      " </div>\n",
      " <div class=\"NH4Dw\">\n",
      " </div>\n",
      " <p class=\"_2rxhF\">\n",
      "  Free Test Drive\n",
      "  <!-- -->\n",
      "  Tomorrow\n",
      "  <!-- -->\n",
      "  <span>\n",
      "   <!-- -->\n",
      "   at\n",
      "   <!-- -->\n",
      "   <!-- -->\n",
      "   Attapur, Hyderabad\n",
      "   <!-- -->\n",
      "  </span>\n",
      " </p>\n",
      "</div>\n",
      "\n"
     ]
    }
   ],
   "source": [
    "print(car.prettify())"
   ]
  },
  {
   "cell_type": "code",
   "execution_count": 21,
   "metadata": {},
   "outputs": [],
   "source": [
    "name=car.find('h3').get_text()"
   ]
  },
  {
   "cell_type": "code",
   "execution_count": 22,
   "metadata": {},
   "outputs": [
    {
     "data": {
      "text/plain": [
       "'2015 Hyundai Xcent S 1.2'"
      ]
     },
     "execution_count": 22,
     "metadata": {},
     "output_type": "execute_result"
    }
   ],
   "source": [
    "name"
   ]
  },
  {
   "cell_type": "code",
   "execution_count": 23,
   "metadata": {},
   "outputs": [],
   "source": [
    "year_manu = name.split()[0]"
   ]
  },
  {
   "cell_type": "code",
   "execution_count": 24,
   "metadata": {},
   "outputs": [
    {
     "data": {
      "text/plain": [
       "'2015'"
      ]
     },
     "execution_count": 24,
     "metadata": {},
     "output_type": "execute_result"
    }
   ],
   "source": [
    "year_manu"
   ]
  },
  {
   "cell_type": "code",
   "execution_count": 25,
   "metadata": {},
   "outputs": [],
   "source": [
    "year_manu = name.split()[0]\n",
    "brand = name.split()[1]\n",
    "name = ' '.join(name.split()[1:])"
   ]
  },
  {
   "cell_type": "code",
   "execution_count": 26,
   "metadata": {},
   "outputs": [
    {
     "data": {
      "text/plain": [
       "('2015', 'Hyundai', 'Hyundai Xcent S 1.2')"
      ]
     },
     "execution_count": 26,
     "metadata": {},
     "output_type": "execute_result"
    }
   ],
   "source": [
    "year_manu,brand,name"
   ]
  },
  {
   "cell_type": "code",
   "execution_count": 27,
   "metadata": {},
   "outputs": [],
   "source": [
    "ul = car.find('ul')"
   ]
  },
  {
   "cell_type": "code",
   "execution_count": 28,
   "metadata": {},
   "outputs": [
    {
     "data": {
      "text/plain": [
       "<ul class=\"_3jRcd\"><li class=\"_2Fm8o\">Reg. serviced</li><li>25,539 km</li><li>Petrol</li><li>1st owner</li></ul>"
      ]
     },
     "execution_count": 28,
     "metadata": {},
     "output_type": "execute_result"
    }
   ],
   "source": [
    "ul"
   ]
  },
  {
   "cell_type": "code",
   "execution_count": 29,
   "metadata": {},
   "outputs": [],
   "source": [
    "lists = ul.find_all('li')"
   ]
  },
  {
   "cell_type": "code",
   "execution_count": 30,
   "metadata": {},
   "outputs": [
    {
     "data": {
      "text/plain": [
       "[<li class=\"_2Fm8o\">Reg. serviced</li>,\n",
       " <li>25,539 km</li>,\n",
       " <li>Petrol</li>,\n",
       " <li>1st owner</li>]"
      ]
     },
     "execution_count": 30,
     "metadata": {},
     "output_type": "execute_result"
    }
   ],
   "source": [
    "lists"
   ]
  },
  {
   "cell_type": "code",
   "execution_count": 31,
   "metadata": {},
   "outputs": [
    {
     "data": {
      "text/plain": [
       "4"
      ]
     },
     "execution_count": 31,
     "metadata": {},
     "output_type": "execute_result"
    }
   ],
   "source": [
    "len(lists)"
   ]
  },
  {
   "cell_type": "code",
   "execution_count": 32,
   "metadata": {},
   "outputs": [],
   "source": [
    "km_tra = lists[1].get_text()\n",
    "fuel = lists[2].get_text()\n",
    "owner_type = lists[3].get_text()"
   ]
  },
  {
   "cell_type": "code",
   "execution_count": 33,
   "metadata": {},
   "outputs": [
    {
     "data": {
      "text/plain": [
       "('25,539 km', 'Petrol', '1st owner')"
      ]
     },
     "execution_count": 33,
     "metadata": {},
     "output_type": "execute_result"
    }
   ],
   "source": [
    "km_tra,fuel,owner_type"
   ]
  },
  {
   "cell_type": "code",
   "execution_count": 34,
   "metadata": {},
   "outputs": [],
   "source": [
    "price = car.find('strong').get_text()"
   ]
  },
  {
   "cell_type": "code",
   "execution_count": 35,
   "metadata": {},
   "outputs": [
    {
     "data": {
      "text/plain": [
       "'₹4.24L'"
      ]
     },
     "execution_count": 35,
     "metadata": {},
     "output_type": "execute_result"
    }
   ],
   "source": [
    "price"
   ]
  },
  {
   "cell_type": "code",
   "execution_count": 36,
   "metadata": {},
   "outputs": [],
   "source": [
    "year_manu_list=[]\n",
    "brand_list=[]\n",
    "name_list=[]\n",
    "km_tra_list=[]\n",
    "fuel_list=[]\n",
    "owner_type_list=[]\n",
    "price_list=[]"
   ]
  },
  {
   "cell_type": "code",
   "execution_count": 37,
   "metadata": {},
   "outputs": [],
   "source": [
    "for i in cars:\n",
    "    name=i.find('h3').get_text()\n",
    "    year_manu = name.split()[0]\n",
    "    brand = name.split()[1]\n",
    "    name = ' '.join(name.split()[1:])\n",
    "    ul = i.find('ul')\n",
    "    lists = ul.find_all('li')\n",
    "    if len(lists)==3:\n",
    "        continue\n",
    "    else:\n",
    "        km_tra = lists[1].get_text()    \n",
    "        fuel = lists[2].get_text()  \n",
    "        owner_type = lists[3].get_text()  \n",
    "        price = i.find('strong').get_text()\n",
    "    \n",
    "    year_manu_list.append(year_manu)\n",
    "    brand_list.append(brand)\n",
    "    name_list.append(name)\n",
    "    km_tra_list.append(km_tra)\n",
    "    fuel_list.append(fuel)\n",
    "    owner_type_list.append(owner_type)\n",
    "    price_list.append(price)"
   ]
  },
  {
   "cell_type": "code",
   "execution_count": 38,
   "metadata": {},
   "outputs": [
    {
     "data": {
      "text/plain": [
       "4"
      ]
     },
     "execution_count": 38,
     "metadata": {},
     "output_type": "execute_result"
    }
   ],
   "source": [
    "len(lists)"
   ]
  },
  {
   "cell_type": "code",
   "execution_count": 39,
   "metadata": {},
   "outputs": [
    {
     "data": {
      "text/plain": [
       "['Hyundai Xcent S 1.2',\n",
       " 'Hyundai Elite i20 ASTA 1.2',\n",
       " 'Maruti Grand Vitara DELTA SMART HYBRID',\n",
       " 'Tata Tiago XZA PETROL',\n",
       " 'Maruti Ertiga VXI AT SHVS']"
      ]
     },
     "execution_count": 39,
     "metadata": {},
     "output_type": "execute_result"
    }
   ],
   "source": [
    "name_list[:5]"
   ]
  },
  {
   "cell_type": "code",
   "execution_count": 40,
   "metadata": {},
   "outputs": [],
   "source": [
    "import pandas as pd"
   ]
  },
  {
   "cell_type": "code",
   "execution_count": 41,
   "metadata": {},
   "outputs": [],
   "source": [
    "dataset = pd.DataFrame({'Name': name_list,\n",
    "                        'Brand Name':brand_list,\n",
    "                        'Year of Manufacture':year_manu,\n",
    "                        'Distance Traveled':km_tra_list,\n",
    "                        'Fuel Type':fuel_list,\n",
    "                        'Owner Type':owner_type_list,\n",
    "                        'Price':price_list})"
   ]
  },
  {
   "cell_type": "code",
   "execution_count": 42,
   "metadata": {},
   "outputs": [
    {
     "data": {
      "text/html": [
       "<div>\n",
       "<style scoped>\n",
       "    .dataframe tbody tr th:only-of-type {\n",
       "        vertical-align: middle;\n",
       "    }\n",
       "\n",
       "    .dataframe tbody tr th {\n",
       "        vertical-align: top;\n",
       "    }\n",
       "\n",
       "    .dataframe thead th {\n",
       "        text-align: right;\n",
       "    }\n",
       "</style>\n",
       "<table border=\"1\" class=\"dataframe\">\n",
       "  <thead>\n",
       "    <tr style=\"text-align: right;\">\n",
       "      <th></th>\n",
       "      <th>Name</th>\n",
       "      <th>Brand Name</th>\n",
       "      <th>Year of Manufacture</th>\n",
       "      <th>Distance Traveled</th>\n",
       "      <th>Fuel Type</th>\n",
       "      <th>Owner Type</th>\n",
       "      <th>Price</th>\n",
       "    </tr>\n",
       "  </thead>\n",
       "  <tbody>\n",
       "    <tr>\n",
       "      <th>0</th>\n",
       "      <td>Hyundai Xcent S 1.2</td>\n",
       "      <td>Hyundai</td>\n",
       "      <td>2017</td>\n",
       "      <td>25,539 km</td>\n",
       "      <td>Petrol</td>\n",
       "      <td>1st owner</td>\n",
       "      <td>₹4.24L</td>\n",
       "    </tr>\n",
       "    <tr>\n",
       "      <th>1</th>\n",
       "      <td>Hyundai Elite i20 ASTA 1.2</td>\n",
       "      <td>Hyundai</td>\n",
       "      <td>2017</td>\n",
       "      <td>63,318 km</td>\n",
       "      <td>Petrol</td>\n",
       "      <td>2nd owner</td>\n",
       "      <td>₹6.11L</td>\n",
       "    </tr>\n",
       "    <tr>\n",
       "      <th>2</th>\n",
       "      <td>Maruti Grand Vitara DELTA SMART HYBRID</td>\n",
       "      <td>Maruti</td>\n",
       "      <td>2017</td>\n",
       "      <td>28,842 km</td>\n",
       "      <td>Petrol</td>\n",
       "      <td>1st owner</td>\n",
       "      <td>₹12.33L</td>\n",
       "    </tr>\n",
       "    <tr>\n",
       "      <th>3</th>\n",
       "      <td>Tata Tiago XZA PETROL</td>\n",
       "      <td>Tata</td>\n",
       "      <td>2017</td>\n",
       "      <td>41,772 km</td>\n",
       "      <td>Petrol</td>\n",
       "      <td>2nd owner</td>\n",
       "      <td>₹4.85L</td>\n",
       "    </tr>\n",
       "    <tr>\n",
       "      <th>4</th>\n",
       "      <td>Maruti Ertiga VXI AT SHVS</td>\n",
       "      <td>Maruti</td>\n",
       "      <td>2017</td>\n",
       "      <td>35,378 km</td>\n",
       "      <td>Petrol</td>\n",
       "      <td>1st owner</td>\n",
       "      <td>₹10.84L</td>\n",
       "    </tr>\n",
       "    <tr>\n",
       "      <th>...</th>\n",
       "      <td>...</td>\n",
       "      <td>...</td>\n",
       "      <td>...</td>\n",
       "      <td>...</td>\n",
       "      <td>...</td>\n",
       "      <td>...</td>\n",
       "      <td>...</td>\n",
       "    </tr>\n",
       "    <tr>\n",
       "      <th>515</th>\n",
       "      <td>Maruti Baleno DELTA PETROL 1.2</td>\n",
       "      <td>Maruti</td>\n",
       "      <td>2017</td>\n",
       "      <td>41,113 km</td>\n",
       "      <td>Petrol</td>\n",
       "      <td>1st owner</td>\n",
       "      <td>₹6.86L</td>\n",
       "    </tr>\n",
       "    <tr>\n",
       "      <th>516</th>\n",
       "      <td>Honda Amaze 1.2L I-VTEC VX</td>\n",
       "      <td>Honda</td>\n",
       "      <td>2017</td>\n",
       "      <td>49,073 km</td>\n",
       "      <td>Petrol</td>\n",
       "      <td>1st owner</td>\n",
       "      <td>₹6.38L</td>\n",
       "    </tr>\n",
       "    <tr>\n",
       "      <th>517</th>\n",
       "      <td>Maruti Dzire ZDI PLUS</td>\n",
       "      <td>Maruti</td>\n",
       "      <td>2017</td>\n",
       "      <td>90,164 km</td>\n",
       "      <td>Diesel</td>\n",
       "      <td>1st owner</td>\n",
       "      <td>₹7.18L</td>\n",
       "    </tr>\n",
       "    <tr>\n",
       "      <th>518</th>\n",
       "      <td>Maruti Ertiga ZXI+ SHVS</td>\n",
       "      <td>Maruti</td>\n",
       "      <td>2017</td>\n",
       "      <td>41,284 km</td>\n",
       "      <td>Petrol</td>\n",
       "      <td>2nd owner</td>\n",
       "      <td>₹8.90L</td>\n",
       "    </tr>\n",
       "    <tr>\n",
       "      <th>519</th>\n",
       "      <td>Maruti Baleno DELTA PETROL 1.2</td>\n",
       "      <td>Maruti</td>\n",
       "      <td>2017</td>\n",
       "      <td>45,551 km</td>\n",
       "      <td>Petrol</td>\n",
       "      <td>1st owner</td>\n",
       "      <td>₹5.58L</td>\n",
       "    </tr>\n",
       "  </tbody>\n",
       "</table>\n",
       "<p>520 rows × 7 columns</p>\n",
       "</div>"
      ],
      "text/plain": [
       "                                       Name Brand Name Year of Manufacture   \n",
       "0                       Hyundai Xcent S 1.2    Hyundai                2017  \\\n",
       "1                Hyundai Elite i20 ASTA 1.2    Hyundai                2017   \n",
       "2    Maruti Grand Vitara DELTA SMART HYBRID     Maruti                2017   \n",
       "3                     Tata Tiago XZA PETROL       Tata                2017   \n",
       "4                 Maruti Ertiga VXI AT SHVS     Maruti                2017   \n",
       "..                                      ...        ...                 ...   \n",
       "515          Maruti Baleno DELTA PETROL 1.2     Maruti                2017   \n",
       "516              Honda Amaze 1.2L I-VTEC VX      Honda                2017   \n",
       "517                   Maruti Dzire ZDI PLUS     Maruti                2017   \n",
       "518                 Maruti Ertiga ZXI+ SHVS     Maruti                2017   \n",
       "519          Maruti Baleno DELTA PETROL 1.2     Maruti                2017   \n",
       "\n",
       "    Distance Traveled Fuel Type Owner Type    Price  \n",
       "0           25,539 km    Petrol  1st owner   ₹4.24L  \n",
       "1           63,318 km    Petrol  2nd owner   ₹6.11L  \n",
       "2           28,842 km    Petrol  1st owner  ₹12.33L  \n",
       "3           41,772 km    Petrol  2nd owner   ₹4.85L  \n",
       "4           35,378 km    Petrol  1st owner  ₹10.84L  \n",
       "..                ...       ...        ...      ...  \n",
       "515         41,113 km    Petrol  1st owner   ₹6.86L  \n",
       "516         49,073 km    Petrol  1st owner   ₹6.38L  \n",
       "517         90,164 km    Diesel  1st owner   ₹7.18L  \n",
       "518         41,284 km    Petrol  2nd owner   ₹8.90L  \n",
       "519         45,551 km    Petrol  1st owner   ₹5.58L  \n",
       "\n",
       "[520 rows x 7 columns]"
      ]
     },
     "execution_count": 42,
     "metadata": {},
     "output_type": "execute_result"
    }
   ],
   "source": [
    "dataset"
   ]
  },
  {
   "cell_type": "code",
   "execution_count": 43,
   "metadata": {},
   "outputs": [],
   "source": [
    "dataset.to_csv('car24.csv',index=False)"
   ]
  },
  {
   "cell_type": "code",
   "execution_count": null,
   "metadata": {},
   "outputs": [],
   "source": []
  }
 ],
 "metadata": {
  "kernelspec": {
   "display_name": "Python 3",
   "language": "python",
   "name": "python3"
  },
  "language_info": {
   "codemirror_mode": {
    "name": "ipython",
    "version": 3
   },
   "file_extension": ".py",
   "mimetype": "text/x-python",
   "name": "python",
   "nbconvert_exporter": "python",
   "pygments_lexer": "ipython3",
   "version": "3.8.10"
  }
 },
 "nbformat": 4,
 "nbformat_minor": 2
}
